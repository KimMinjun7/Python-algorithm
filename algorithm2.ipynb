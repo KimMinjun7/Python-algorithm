{
 "cells": [
  {
   "cell_type": "markdown",
   "metadata": {},
   "source": [
    "## 검색 알고리즘"
   ]
  },
  {
   "cell_type": "markdown",
   "metadata": {},
   "source": [
    "#### 선형 검색(Linear Search)"
   ]
  },
  {
   "cell_type": "code",
   "execution_count": 1,
   "metadata": {},
   "outputs": [
    {
     "name": "stdout",
     "output_type": "stream",
     "text": [
      "0\n",
      "4\n"
     ]
    }
   ],
   "source": [
    "# O(n)\n",
    "\n",
    "def findIndexLinear(array, cond):\n",
    "    for i in range(len(array)):\n",
    "        if(array[i] == cond):\n",
    "            return i\n",
    "\n",
    "\n",
    "print(findIndexLinear([2, 4, 5, 1, 6], 2))\n",
    "print(findIndexLinear([2, 4, 5, 1, 6], 6))"
   ]
  },
  {
   "cell_type": "markdown",
   "metadata": {},
   "source": [
    "#### 이진 검색(binary search)\n",
    "\n",
    "+ 중간 위치 선택 : (첫번째 인덱스 + 마지막 인덱스) / 2\n",
    "+ 만약 짝수일 경우 소숫점 자리를 올릴것인지 내릴것인지 결정\n",
    "+ 중간 위치가 찾는 값인지 비교\n",
    "+ 아닐경우 중간을 기준으로 왼쪽 또는 오른쪽을 선택해 다시 인덱스(첫번째, 마지막) 조정하여 비교해 나간다.\n",
    "    - 왼쪽일 경우 : 마지막 인덱스 = 중간위치 - 1\n",
    "    - 오른쪽일 경우 : 첫번째 인덱스 = 중간위치 + 1"
   ]
  },
  {
   "cell_type": "code",
   "execution_count": 14,
   "metadata": {},
   "outputs": [
    {
     "name": "stdout",
     "output_type": "stream",
     "text": [
      "4\n",
      "-1\n"
     ]
    }
   ],
   "source": [
    "import math # ceil(), floor(), round()\n",
    "\n",
    "# O(log n)\n",
    "def binary_search(array, cond):\n",
    "    head = 0\n",
    "    tail = len(array)-1\n",
    "    \n",
    "#    mid = math.floor((head + tail) / 2)\n",
    "    \n",
    "#     while(array[mid] != cond):\n",
    "#         if(head > tail):\n",
    "#             return \"결과를 찾을 수 없다.\"\n",
    "        \n",
    "#         if(array[mid] < cond):\n",
    "#             head = mid + 1\n",
    "#             mid = math.floor((head + tail) / 2)\n",
    "#         else:\n",
    "#             tail = mid - 1\n",
    "#             mid = math.floor((head + tail) / 2)\n",
    "\n",
    "    while(head <= tail):\n",
    "        mid = math.floor((head + tail) / 2)\n",
    "        if(array[mid] == cond):\n",
    "            return mid\n",
    "        elif array[mid] < cond:\n",
    "            head = mid + 1\n",
    "        else:\n",
    "            tail = mid - 1\n",
    "    \n",
    "    return -1\n",
    "    \n",
    "#    return \"{}번째 요소가 일치합니다.\".format(mid)\n",
    "# --------------------------------------------------------------\n",
    "print(binary_search([1, 2, 4, 5, 6, 7, 9, 28, 49, 70], 6))\n",
    "print(binary_search([1, 2, 4, 5, 6, 7, 9, 28, 49, 70], 50))"
   ]
  },
  {
   "cell_type": "markdown",
   "metadata": {},
   "source": [
    "#### 부품 찾기\n",
    "\n",
    "부품매장에서 손님이 원하는 부품을 검색하려고 한다."
   ]
  },
  {
   "cell_type": "code",
   "execution_count": 16,
   "metadata": {},
   "outputs": [
    {
     "name": "stdout",
     "output_type": "stream",
     "text": [
      "부품 갯수 : 10\n",
      "부품 번호입력 : 111 112 113 114 115 211 212 213 214 215\n",
      "필요한 부품 갯수 : 3\n",
      "필요한 부품 번호입력 : 13 115 120\n",
      "no yes no "
     ]
    }
   ],
   "source": [
    "######## 매장에 부품을 준비하고자 한다.\n",
    "\n",
    "# 매장에 들여올 부품의 갯수 : 10\n",
    "n = int(input(\"부품 갯수 : \"))\n",
    "\n",
    "# 부품번호 입력 : 111 112 113 114 115 211 212 213 214 215\n",
    "shop = list(map(int, input(\"부품 번호입력 : \").split()))\n",
    "shop.sort()\n",
    "\n",
    "# 손님이 필요한 부품의 갯수 : 3\n",
    "gn = int(input(\"필요한 부품 갯수 : \"))\n",
    "\n",
    "# 어떤 부품이 필요한지를 공백을 기준으로 여러개 입력받기 : 113 115 120\n",
    "guest = list(map(int, input(\"필요한 부품 번호입력 : \").split()))\n",
    "\n",
    "# 손님이 필요한 부품을 하나씩 확인\n",
    "for i in guest:\n",
    "    # 해당 부품이 존재하는지 확인\n",
    "    result = binary_search(shop, i)\n",
    "    \n",
    "    if result != -1:\n",
    "        print(\"yes\", end=\" \")\n",
    "    else:\n",
    "        print(\"no\", end=\" \")"
   ]
  },
  {
   "cell_type": "markdown",
   "metadata": {},
   "source": [
    "#### 떡볶이 떡 만들기\n",
    "\n",
    "오늘 동빈이는 여행 가신 부모님을 대신해서 떡집 일을 하기로 했다.<br>\n",
    "오늘은 떡볶이 떡을 만드는 날이다.<br>\n",
    "동빈이네 떡볶이 떡은 재밌게도 떡볶이 떡의 길이가 일정하지 않다.<br> \n",
    "대신에 한봉지 안에 들어가는 떡의 총 길이는 절단기로 잘라서 맞춰준다<br>\n",
    "절단기에 높이(H) 를 지정하면 줄지어진 떡을 한 번에 절단한다. <br>\n",
    "높이가 H보다 긴 떡은 H 위의 부분이 잘릴 것이고, 낮은 떡은 잘리지 않는다<br>\n",
    "예를 들어 높이가 19, 14, 10, 17cm인 떡이 나란히 있고 <br>\n",
    "절단기 높이를 15cm로 지정하면 자른 뒤 떡의 높이는 15, 14, 10, 15cm가 될 것이다.<br>\n",
    "잘린 떡의 길이는 차례대로 4, 0, 0, 2cm이다.<br>\n",
    "손님은 6cm만큼의 길이를 가져간다<br>\n",
    "손님이 왔을 때 요청한 총 길이가 M일 때 적어도 M만큼의 떡을 얻기 위해<br> \n",
    "절단기에 설정할 수 있는 높이의 최댓값을 구하는 프로그램을 작성하세요<br><br>\n",
    "\n",
    "\n",
    "![completion.PNG](./binarysearch.png)\n",
    "\n",
    "![completion.PNG](./binary1.png)\n",
    "\n",
    "![completion.PNG](./binary2.png)\n",
    "\n",
    "![completion.PNG](./binary3.png)\n",
    "\n",
    "![completion.PNG](./binary4.png)"
   ]
  }
 ],
 "metadata": {
  "kernelspec": {
   "display_name": "Python 3",
   "language": "python",
   "name": "python3"
  },
  "language_info": {
   "codemirror_mode": {
    "name": "ipython",
    "version": 3
   },
   "file_extension": ".py",
   "mimetype": "text/x-python",
   "name": "python",
   "nbconvert_exporter": "python",
   "pygments_lexer": "ipython3",
   "version": "3.8.3"
  }
 },
 "nbformat": 4,
 "nbformat_minor": 4
}
