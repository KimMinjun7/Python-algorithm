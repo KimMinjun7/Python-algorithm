{
 "cells": [
  {
   "cell_type": "markdown",
   "metadata": {},
   "source": [
    "### 1부터 n까지의 합 구하기\n",
    "\n",
    "+ 합을 기록할 변수를 만들고 0을 저장\n",
    "+ n을 1부터 1씩 증가하면서 반복\n",
    "+ 반복문 안에서 합을 기록할 변수에 1씩 증가된 값을 더함\n",
    "+ 반복이 끝나면 합을 출력"
   ]
  },
  {
   "cell_type": "code",
   "execution_count": 6,
   "metadata": {},
   "outputs": [
    {
     "name": "stdout",
     "output_type": "stream",
     "text": [
      "time :  0.45471787452697754\n"
     ]
    }
   ],
   "source": [
    "# O(n)\n",
    "def sum1(n):\n",
    "    total = 0\n",
    "    for i in range(1, n+1):\n",
    "        total += i\n",
    "    \n",
    "    return total\n",
    "\n",
    "# 시간측정\n",
    "import time\n",
    "\n",
    "start_time = time.time()\n",
    "\n",
    "sum1(10000000) # 5050\n",
    "\n",
    "end_time = time.time()\n",
    "print(\"time : \", end_time - start_time)"
   ]
  },
  {
   "cell_type": "code",
   "execution_count": 8,
   "metadata": {},
   "outputs": [
    {
     "name": "stdout",
     "output_type": "stream",
     "text": [
      "time :  0.0\n"
     ]
    }
   ],
   "source": [
    "# n(n+1)/2\n",
    "# O(1)\n",
    "\n",
    "def sum2(n):\n",
    "    return int(n*(n+1)/2)\n",
    "\n",
    "start_time = time.time()\n",
    "\n",
    "sum2(10000000)\n",
    "\n",
    "end_time = time.time()\n",
    "print(\"time : \", end_time - start_time)"
   ]
  },
  {
   "cell_type": "markdown",
   "metadata": {},
   "source": [
    "### 중복 데이터 삭제\n",
    "\n",
    "names = [\"Dave\", \"David\", \"Anthony\", \"David\", \"Dave\"]<br>\n",
    "find_same_name(names)<br>\n",
    "결과 : [\"Dave\", \"David\", \"Anthony\"]\n",
    "\n",
    "+ set 자료형 사용하지 않기\n",
    "+ del names[인덱스]"
   ]
  },
  {
   "cell_type": "code",
   "execution_count": 9,
   "metadata": {},
   "outputs": [],
   "source": [
    "# O(n^2)\n",
    "def find_same_name(name_list):\n",
    "    for idx, name in enumerate(name_list):\n",
    "        for idx2 in range(idx+1, len(name_list)):\n",
    "            if(name == name_list[idx2]):\n",
    "                del name_list[idx2]\n",
    "                \n",
    "    return name_list"
   ]
  },
  {
   "cell_type": "code",
   "execution_count": 11,
   "metadata": {},
   "outputs": [],
   "source": [
    "# O(n)\n",
    "def find_same_name1(name_list):\n",
    "    nlist = []\n",
    "    for i in name_list:\n",
    "        if i not in nlist:\n",
    "            nlist.append(i)\n",
    "    return nlist"
   ]
  },
  {
   "cell_type": "code",
   "execution_count": 12,
   "metadata": {},
   "outputs": [
    {
     "name": "stdout",
     "output_type": "stream",
     "text": [
      "결과 :  ['Dave', 'David', 'Anthony']\n"
     ]
    }
   ],
   "source": [
    "names = [\"Dave\", \"David\", \"Anthony\", \"David\", \"Dave\"]\n",
    "namelist = find_same_name1(names)\n",
    "print(\"결과 : \", namelist)"
   ]
  },
  {
   "cell_type": "markdown",
   "metadata": {},
   "source": [
    "### 최대값 구하기"
   ]
  },
  {
   "cell_type": "code",
   "execution_count": 13,
   "metadata": {},
   "outputs": [
    {
     "name": "stdout",
     "output_type": "stream",
     "text": [
      "92\n"
     ]
    }
   ],
   "source": [
    "# O(n)\n",
    "def find_max(n):\n",
    "    max_val = n[0]\n",
    "    length = len(n)\n",
    "    \n",
    "    for i in range(1, length):\n",
    "        if n[i] > max_val:\n",
    "            max_val = n[i]\n",
    "    \n",
    "    return max_val\n",
    "\n",
    "data = [17, 92, 18, 33, 58, 7, 33, 42]\n",
    "print(find_max(data))"
   ]
  },
  {
   "cell_type": "code",
   "execution_count": 15,
   "metadata": {},
   "outputs": [
    {
     "name": "stdout",
     "output_type": "stream",
     "text": [
      "1\n"
     ]
    }
   ],
   "source": [
    "# 위치 구하기\n",
    "\n",
    "def find_max_idx(n):\n",
    "    max_idx = 0\n",
    "    length = len(n)\n",
    "    \n",
    "    for i in range(1, length):\n",
    "        if n[i] > n[max_idx]:\n",
    "            max_idx = i\n",
    "    \n",
    "    return max_idx\n",
    "\n",
    "data = [17, 92, 18, 33, 58, 7, 33, 42]\n",
    "print(find_max_idx(data))"
   ]
  },
  {
   "cell_type": "markdown",
   "metadata": {},
   "source": [
    "### 숫자 야구 프로그램\n",
    "\n",
    "+ 술래(컴퓨터)는 임의의 숫자 3개를 준비\n",
    "+ 숫자는 절대 중복되어서는 안된다.\n",
    "+ 숫자는 1~9까지로 한다."
   ]
  },
  {
   "cell_type": "code",
   "execution_count": null,
   "metadata": {},
   "outputs": [],
   "source": [
    "\"\"\"\n",
    "숫자 야구 게임을 시작합니다.!!!\n",
    "--------------------------------\n",
    "정답 : 369\n",
    "숫자 3자리 입력 : 123\n",
    "결과 : [0] 스트라이크 [1] 볼 : 123\n",
    "\n",
    "숫자 3자리 입력 : 345\n",
    "결과 : [1] 스트라이크 [0] 볼 : 345\n",
    "\n",
    "숫자 3자리 입력 : 127\n",
    "결과 : 아웃 :127\n",
    "\n",
    "숫자 3자리 입력 : 369\n",
    "결과 : 축하합니다.\n",
    "횟수 : 3\n",
    "걸린시간 : 10초\n",
    "\"\"\""
   ]
  },
  {
   "cell_type": "code",
   "execution_count": 20,
   "metadata": {},
   "outputs": [
    {
     "name": "stdout",
     "output_type": "stream",
     "text": [
      "{9, 2, 3}\n",
      "숫자야구게임을 시작합니다 !!!\n",
      "---------------------------\n",
      "숫자 3자리를 입력하세요 : 923\n",
      "결과 : Strike [ 3 ] Ball : [ 0 ]  923\n",
      "---------------------------\n",
      "횟수 :  1\n",
      "걸린시간  6 초\n"
     ]
    }
   ],
   "source": [
    "import random\n",
    "\n",
    "number = set()\n",
    "while len(number)<3:\n",
    "    number.add(random.randint(1,9))\n",
    "\n",
    "print(number)\n",
    "    \n",
    "listnum = list(number)\n",
    "com = 100*listnum[0]+10*listnum[1]+listnum[2]\n",
    "\n",
    "count = 0\n",
    "strike = 0\n",
    "ball = 0\n",
    "\n",
    "print(\"숫자야구게임을 시작합니다 !!!\")\n",
    "print(\"---------------------------\")\n",
    "\n",
    "start_time = time.time()\n",
    "\n",
    "while (strike < 3):\n",
    "    num = str(input(\"숫자 3자리를 입력하세요 : \"))\n",
    "\n",
    "    strike = 0\n",
    "    ball = 0\n",
    "\n",
    "    for i in range(0, 3):\n",
    "        for j in range(0, 3):\n",
    "            if (num[i]==str(listnum[j]) and i==j):\n",
    "                strike+=1\n",
    "            elif (num[i] == str(listnum[j]) and i != j):\n",
    "                ball+=1\n",
    "\n",
    "    if(strike==0 and ball==0):\n",
    "        print(\"결과 : 아웃 : \", num)\n",
    "    else:\n",
    "        print(\"결과 : Strike [\",strike, \"] Ball : [\",ball, \"] \", num)\n",
    "    \n",
    "    count += 1\n",
    "print(\"---------------------------\")\n",
    "\n",
    "end_time = time.time()\n",
    "print(\"횟수 : \",count)\n",
    "print(\"걸린시간 \", int(end_time - start_time), \"초\")"
   ]
  },
  {
   "cell_type": "code",
   "execution_count": 18,
   "metadata": {
    "collapsed": true
   },
   "outputs": [
    {
     "name": "stdout",
     "output_type": "stream",
     "text": [
      "8 1 7\n",
      "숫자야구게임을 시작하겠습니다!!!\n",
      "---------------------------\n",
      "숫자 세자리를 입력하세요 : 123\n",
      "결과 : [ 0 ] 스트라이크 [ 1 ] 볼 입력숫자 :  123\n",
      "숫자 세자리를 입력하세요 : 456\n",
      "결과 : [ 0 ] 스트라이크 [ 0 ] 볼 입력숫자 :  456\n",
      "숫자 세자리를 입력하세요 : 817\n",
      "결과 : [ 3 ] 스트라이크 [ 0 ] 볼 입력숫자 :  817\n",
      "---------------------------\n",
      "3 번 만에 정답을 맞추셨습니다. 끝날때까지 걸린 시간은  34.036991119384766\n"
     ]
    }
   ],
   "source": [
    "import random \n",
    "import time\n",
    "\n",
    "\n",
    "def num_bb():\n",
    "    start_time = time.time()\n",
    "    r_num01 = str(random.randrange(1,10))\n",
    "    r_num02 = str(random.randrange(1,10))\n",
    "    r_num03 = str(random.randrange(1,10))\n",
    "    \n",
    "    while (r_num01 == r_num02):\n",
    "        r_num02 = int(random.randrange(1, 10))\n",
    "    while (r_num01 == r_num03 or r_num02 == r_num03):\n",
    "        r_num03 = int(random.randrange(1, 10))\n",
    "\n",
    "#여기까지 중복안되게 난수생성하는 문제 해결        \n",
    "    l_rn= [r_num01, r_num02, r_num03]\n",
    "    \n",
    "    t_c, s_c, b_c = 0, 0, 0\n",
    "    \n",
    "    print (r_num01, r_num02, r_num03)\n",
    "    print(\"숫자야구게임을 시작하겠습니다!!!\")\n",
    "    print(\"---------------------------\")\n",
    "    \n",
    "    \n",
    "    while s_c<3 :\n",
    "        s_c, b_c = 0, 0\n",
    "        i_n = str(input(\"숫자 세자리를 입력하세요 : \"))\n",
    "        for i in range(0,3):\n",
    "            for j in range(0,3):\n",
    "                \n",
    "                if i_n[i] == str(l_rn[j]) and i == j:\n",
    "                    \n",
    "                    s_c += 1\n",
    "                elif i_n[i] == str(l_rn[j]) and i != j:\n",
    "                    \n",
    "                    b_c += 1\n",
    "\n",
    "        print(\"결과 : [\", s_c, \"] 스트라이크 [\", b_c, \"] 볼\", \"입력숫자 : \", i_n )\n",
    "        t_c += 1\n",
    "        \n",
    "    print(\"---------------------------\")\n",
    "    end_time= time.time()\n",
    "    print(t_c, \"번 만에 정답을 맞추셨습니다. 끝날때까지 걸린 시간은 \", end_time - start_time )\n",
    "        \n",
    "\n",
    "    \n",
    "num_bb()"
   ]
  },
  {
   "cell_type": "code",
   "execution_count": 21,
   "metadata": {},
   "outputs": [
    {
     "name": "stdout",
     "output_type": "stream",
     "text": [
      "['2', '4', '7']\n",
      "숫자야구게임을 시작합니다\n",
      "---------------------------\n",
      "숫자 3자리 입력 : 123\n",
      "결과: [ 0 ] Strike [ 1 ] Ball\n",
      "숫자 3자리 입력 : 742\n",
      "결과: [ 1 ] Strike [ 2 ] Ball\n",
      "숫자 3자리 입력 : 247\n",
      "결과: [ 3 ] Strike [ 0 ] Ball\n",
      "3 번 만에 맞추셨습니다!\n",
      "걸린 시간 22 초\n"
     ]
    }
   ],
   "source": [
    "import random\n",
    "\n",
    "# 난수 생성\n",
    "num = [1, 2, 3, 4, 5, 6 ,7, 8 ,9]\n",
    "\n",
    "ran1 = random.randint(0,8)\n",
    "num1 = str(num.pop(ran1))\n",
    "\n",
    "ran2 = random.randint(0,7)\n",
    "num2 = str(num.pop(ran2))\n",
    "\n",
    "ran3 = random.randint(0,6)\n",
    "num3 = str(num.pop(ran3))\n",
    "\n",
    "number = [num1, num2, num3]\n",
    "print(number)\n",
    "\n",
    "# 값 초기화\n",
    "try_cnt = 0 \n",
    "strike_cnt = 0 \n",
    "ball_cnt = 0 \n",
    "\n",
    "print(\"숫자야구게임을 시작합니다\")\n",
    "print(\"---------------------------\")\n",
    "start_time = time.time()\n",
    "while(strike_cnt < 3):\n",
    "    num_input = str(input(\"숫자 3자리 입력 : \"))\n",
    "    \n",
    "    strike_cnt = 0\n",
    "    ball_cnt = 0\n",
    "    \n",
    "    for i in range(0, 3):\n",
    "        for j in range(0, 3):\n",
    "            if num_input[i] == str(number[j]) and i == j: #Strike 카운터\n",
    "                 strike_cnt += 1\n",
    "            \n",
    "            elif num_input[i] == str(number[j]) and i !=j: #Ball 카운터\n",
    "                ball_cnt += 1\n",
    "        \n",
    "    print(\"결과:\", \"[\", strike_cnt, \"]\",\"Strike\", \"[\", ball_cnt, \"]\", \"Ball\")\n",
    "    try_cnt += 1 \n",
    "\n",
    "\n",
    "print(try_cnt, \"번 만에 맞추셨습니다!\")\n",
    "end_time = time.time()\n",
    "print(\"걸린 시간\", round(end_time - start_time), \"초\")"
   ]
  },
  {
   "cell_type": "code",
   "execution_count": 23,
   "metadata": {},
   "outputs": [
    {
     "name": "stdout",
     "output_type": "stream",
     "text": [
      "[8, 0, 4]\n",
      "서로 다른 세 개의 숫자를 입력하세요! 123\n",
      "123  :  아웃\n",
      "서로 다른 세 개의 숫자를 입력하세요! 456\n",
      "456  :  0 스트라이크 1 볼\n",
      "서로 다른 세 개의 숫자를 입력하세요! 804\n",
      "804  : 정답♥\n",
      "시도 횟수 :  3 회\n",
      "걸린 시간 :  41 초\n"
     ]
    }
   ],
   "source": [
    "# 0이 나오면 안됨\n",
    "import random\n",
    "import time\n",
    "\n",
    "numlist = list(range(0, 9))\n",
    "com = random.sample(numlist, 3)\n",
    "print(com)\n",
    "\n",
    "trynum = 0\n",
    "\n",
    "start_time = time.time()\n",
    "\n",
    "while True :\n",
    "    answer = int(input(\"서로 다른 세 개의 숫자를 입력하세요! \"))\n",
    "    fst_ans = answer // 100\n",
    "    snd_ans = (answer-fst_ans*100) // 10 \n",
    "    trd_ans = answer % 10\n",
    "    ans_list = [fst_ans, snd_ans, trd_ans]\n",
    "    strike = 0\n",
    "    ball = 0\n",
    "    trynum += 1\n",
    "\n",
    "    if ans_list == com :\n",
    "        print(answer, \" : 정답♥\")\n",
    "        print(\"시도 횟수 : \", trynum, \"회\")\n",
    "        break\n",
    "    else :\n",
    "        for i in range(0, 3) :\n",
    "            if ans_list[i] == com[i] :\n",
    "                strike += 1\n",
    "            elif ans_list[i] in com :\n",
    "                ball += 1\n",
    "    \n",
    "    if strike+ball > 0 :\n",
    "        print(answer, \" : \", strike, \"스트라이크\", ball, \"볼\")  \n",
    "    else :\n",
    "        print(answer, \" : \", \"아웃\")\n",
    "\n",
    "end_time = time.time()\n",
    "print(\"걸린 시간 : \", int(end_time - start_time), \"초\")"
   ]
  },
  {
   "cell_type": "code",
   "execution_count": 24,
   "metadata": {},
   "outputs": [
    {
     "name": "stdout",
     "output_type": "stream",
     "text": [
      "['8', '1', '2']\n",
      "   숫자 야구 게임을 시작합니다 !  \n",
      "==================================\n",
      "숫자 3자리를 입력하세요 : 123\n",
      "결과 :  0 스트라이크  2 볼\n",
      "\n",
      "숫자 3자리를 입력하세요 : 812\n",
      "결과 : 정답입니다 !\n",
      "\n",
      "시도 횟수 :  2 번\n",
      "걸린 시간 7.9829559326171875\n"
     ]
    }
   ],
   "source": [
    "import random\n",
    "\n",
    "# 정답 생성\n",
    "answer = []        \n",
    "while len(answer) < 3:\n",
    "    numbers = random.randint(1, 9)\n",
    "    \n",
    "    if str(numbers) not in answer:\n",
    "        answer.append(str(numbers))\n",
    "\n",
    "print(answer)\n",
    "\n",
    "user_input = []\n",
    "strike = 0\n",
    "ball = 0\n",
    "cnt = 0\n",
    "starttime = time.time()\n",
    "\n",
    "print(\"   숫자 야구 게임을 시작합니다 !  \")\n",
    "print(\"==================================\")\n",
    "\n",
    "# 스트라이크 볼 잡기\n",
    "while strike < 3:\n",
    "    \n",
    "    user_input = str(input(\"숫자 3자리를 입력하세요 : \"))\n",
    "    \n",
    "    strike = 0\n",
    "    ball = 0\n",
    "    \n",
    "    for i in range(3):\n",
    "        for j in range(3):\n",
    "            if (answer[i] == user_input[j]) and (i == j):\n",
    "                strike += 1\n",
    "            elif (answer[i] == user_input[j]) and (i != j):\n",
    "                ball += 1\n",
    "    \n",
    "    # 결과\n",
    "    if strike == 3:\n",
    "        print(\"결과 : 정답입니다 !\\n\")\n",
    "    elif strike==0 and ball==0:    \n",
    "        print(\"결과: 아웃 !\")\n",
    "    else:\n",
    "        print(\"결과 : \",strike, \"스트라이크 \",ball,\"볼\\n\"  )\n",
    "    \n",
    "        \n",
    "    cnt += 1\n",
    "\n",
    "endtime = time.time()\n",
    "    \n",
    "print(\"시도 횟수 : \",cnt,\"번\")\n",
    "print(\"걸린 시간\", endtime-starttime)  "
   ]
  },
  {
   "cell_type": "code",
   "execution_count": null,
   "metadata": {},
   "outputs": [],
   "source": [
    "# 강사님\n",
    "import random\n",
    "\n",
    "com = [i for i in range(3)]\n",
    "\n",
    "# 중복처리, 임의의 숫자, 1~9\n",
    "i = 0\n",
    "while(i < 3):\n",
    "    com[i] = str(random.randrange(1, 9, 1))\n",
    "    \n",
    "    if(i==1):\n",
    "        if(com[i] == com[i-1]):\n",
    "            i -= 1\n",
    "            \n",
    "    if(i==2):\n",
    "        if(com[i] == com[i-1] or com[i] == com[i-2]):\n",
    "            i -= 1\n",
    "            \n",
    "    i += 1\n",
    "    \n",
    "print(com)\n",
    "\n",
    "print(\"숫자 야구를 시작합니다!!\")\n",
    "print(\"--------------------------\")\n",
    "\n",
    "strike = 0\n",
    "ball = 0\n",
    "while(True):\n",
    "    user = str(input(\"숫자 3자리 입력 : \"))\n",
    "    strike, ball = 0,0\n",
    "    \n",
    "    if(user == \"\"):\n",
    "        print(\"\\n다시 입력해 주세요\\n\")\n",
    "        continue\n",
    "        \n",
    "    if(len(user) != 3):\n",
    "        print(\"\\n숫자 3자리만 입력하세요\\n\")\n",
    "        continue\n",
    "        \n",
    "    if(user.isalpha()):\n",
    "        print(\"\\n숫자만 입력하세요\\n\")\n",
    "        continue\n",
    "    \n",
    "    for i in range(3):\n",
    "        if (com[i] == user[i]):\n",
    "            strike += 1\n",
    "            \n",
    "    if(com[0] == user[1] and com[0] == user[2]):\n",
    "        ball += 1\n",
    "        \n",
    "    if(com[1] == user[0] and com[1] == user[2]):\n",
    "        ball += 1\n",
    "        \n",
    "    if(com[2] == user[1] and com[2] == user[0]):\n",
    "        ball += 1\n",
    "        \n",
    "    if strike == 3:\n",
    "        print(\"축하합니다.\")\n",
    "        break\n",
    "    elif strike == 0 and ball == 0:\n",
    "        print(\"아웃 : \", user)\n",
    "    else:\n",
    "        print(\"{}스트라이크 {}볼\".format(strike, ball))"
   ]
  },
  {
   "cell_type": "markdown",
   "metadata": {},
   "source": [
    "### 피보나치 수열\n",
    "\n",
    "피보나치 수열은 0과 1로 시작되며, 다음 피보나치 수는 바로 앞의 두 피보나치 수의 합이 된다.\n",
    "\n",
    "\n",
    "0 1 1 2 3 5 8 13 21 34 55 ... "
   ]
  },
  {
   "cell_type": "code",
   "execution_count": 1,
   "metadata": {},
   "outputs": [
    {
     "name": "stdout",
     "output_type": "stream",
     "text": [
      "피보나치 수열 :  [0, 1, 1, 2, 3, 5, 8, 13, 21, 34, 55, 89, 144, 233, 377]\n"
     ]
    }
   ],
   "source": [
    "def Fibonacci_sequence(n):\n",
    "    FS = []\n",
    "    a1, a2=0, 1\n",
    "    FS.append(a1)\n",
    "    FS.append(a2)\n",
    "    \n",
    "    for i in range(n-2):\n",
    "        a3 = FS[i] + FS[i+1]\n",
    "        FS.append(a3)\n",
    "    print(\"피보나치 수열 : \", FS)\n",
    "    \n",
    "Fibonacci_sequence(15)"
   ]
  },
  {
   "cell_type": "code",
   "execution_count": 2,
   "metadata": {},
   "outputs": [
    {
     "name": "stdout",
     "output_type": "stream",
     "text": [
      "피보나치 수열 :  [0.1, 1, 2, 3, 5, 8, 13, 21, 34, 55, 89, 144, 233, 377]\n"
     ]
    }
   ],
   "source": [
    "def Fibo(n):\n",
    "    F = [0.1]\n",
    "    a,b = 0,1\n",
    "    \n",
    "    for i in range(1,n-1):\n",
    "        a,b = b, a+b\n",
    "        F.append(b)\n",
    "    print(\"피보나치 수열 : \", F)\n",
    "    \n",
    "Fibo(15)"
   ]
  },
  {
   "cell_type": "code",
   "execution_count": 3,
   "metadata": {},
   "outputs": [
    {
     "name": "stdout",
     "output_type": "stream",
     "text": [
      "0\n",
      "1\n",
      "1\n",
      "2\n",
      "3\n",
      "5\n",
      "8\n",
      "13\n",
      "21\n",
      "34\n"
     ]
    }
   ],
   "source": [
    "a = 0\n",
    "b = 1\n",
    "\n",
    "for _ in range(0,10):\n",
    "    print(a)\n",
    "    temp = a\n",
    "    a = b\n",
    "    b = temp + b"
   ]
  }
 ],
 "metadata": {
  "kernelspec": {
   "display_name": "Python 3",
   "language": "python",
   "name": "python3"
  },
  "language_info": {
   "codemirror_mode": {
    "name": "ipython",
    "version": 3
   },
   "file_extension": ".py",
   "mimetype": "text/x-python",
   "name": "python",
   "nbconvert_exporter": "python",
   "pygments_lexer": "ipython3",
   "version": "3.8.3"
  }
 },
 "nbformat": 4,
 "nbformat_minor": 4
}
